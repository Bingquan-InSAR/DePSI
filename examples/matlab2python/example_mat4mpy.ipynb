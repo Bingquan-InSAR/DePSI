{
 "cells": [
  {
   "cell_type": "code",
   "execution_count": null,
   "metadata": {},
   "outputs": [],
   "source": [
    "import matlab.engine  # Function to load matlab and use functions\n",
    "import numpy as np\n",
    "import xarray as xr"
   ]
  },
  {
   "cell_type": "code",
   "execution_count": null,
   "metadata": {},
   "outputs": [],
   "source": [
    "a = np.random.random((2000,1000))\n",
    "b = np.random.random((1000,2000))\n",
    "c = np.matmul(a,b)"
   ]
  },
  {
   "cell_type": "code",
   "execution_count": null,
   "metadata": {},
   "outputs": [],
   "source": [
    "eng = matlab.engine.start_matlab()"
   ]
  },
  {
   "cell_type": "code",
   "execution_count": null,
   "metadata": {},
   "outputs": [],
   "source": [
    "am = matlab.double(a.tolist())\n",
    "bm = matlab.double(b.tolist())\n",
    "# This conversion is most likely to be the bottleneck taking around 1 min for a size of (10000,8000)"
   ]
  },
  {
   "cell_type": "code",
   "execution_count": null,
   "metadata": {},
   "outputs": [],
   "source": [
    "cm = eng.calculateMatrixMult(am,bm)"
   ]
  },
  {
   "cell_type": "code",
   "execution_count": null,
   "metadata": {},
   "outputs": [],
   "source": [
    "cmp = np.array(cm)"
   ]
  },
  {
   "cell_type": "code",
   "execution_count": null,
   "metadata": {},
   "outputs": [],
   "source": [
    "print (max(cmp-c))\n",
    "# Test results "
   ]
  },
  {
   "attachments": {},
   "cell_type": "markdown",
   "metadata": {},
   "source": [
    "For Xarrays:"
   ]
  },
  {
   "cell_type": "code",
   "execution_count": null,
   "metadata": {},
   "outputs": [],
   "source": [
    "a_xr = xr.array(a)\n",
    "b_xr = xr.array(b)"
   ]
  },
  {
   "cell_type": "code",
   "execution_count": null,
   "metadata": {},
   "outputs": [],
   "source": [
    "a_xr_m = matlab.double(np.asarray(a_xr).tolist())\n",
    "b_xr_m = matlab.double(np.asarray(b_xr).tolist())\n",
    "# This conversion is most likely to be the bottleneck taking around 1 min for a size of (10000,8000)\n",
    "# This also requires a conversion from xarray to numpy to matlab which is quite roundabout.\n",
    "# You could try to save it as a mat file and then modify script to read it."
   ]
  },
  {
   "attachments": {},
   "cell_type": "markdown",
   "metadata": {},
   "source": [
    "Reading and writing to file"
   ]
  },
  {
   "cell_type": "code",
   "execution_count": null,
   "metadata": {},
   "outputs": [],
   "source": [
    "import scipy.io\n",
    "\n",
    "scipy.io.savemat('test.mat', dict(a=a, b=b))\n",
    "#This also works directly with xarray data arrays"
   ]
  },
  {
   "cell_type": "code",
   "execution_count": null,
   "metadata": {},
   "outputs": [],
   "source": [
    "cm = eng.mytestfunc()\n",
    "#We could get the result automatically or save it to a file and read it"
   ]
  },
  {
   "cell_type": "code",
   "execution_count": null,
   "metadata": {},
   "outputs": [],
   "source": [
    "c = scipy.io.loadmat('result.mat')\n",
    "#This reads a dictionary file with variables and other metadata"
   ]
  }
 ],
 "metadata": {
  "language_info": {
   "name": "python"
  },
  "orig_nbformat": 4
 },
 "nbformat": 4,
 "nbformat_minor": 2
}
